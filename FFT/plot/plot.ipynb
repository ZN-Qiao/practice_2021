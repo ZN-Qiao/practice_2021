{
 "cells": [
  {
   "cell_type": "code",
   "execution_count": 1,
   "metadata": {},
   "outputs": [],
   "source": [
    "import numpy as np\n",
    "from scipy import interpolate\n",
    "import matplotlib.pyplot as plt\n",
    "import random\n",
    "from scipy.interpolate import make_interp_spline"
   ]
  },
  {
   "cell_type": "code",
   "execution_count": 2,
   "metadata": {},
   "outputs": [],
   "source": [
    "x = [3, 6, 9, 12, 15, 18, 21, 24,27, 30, 33]\n",
    "y = [1.18, 2.47, 2.97, 3.67, 3.84, 4.58, 5.3, 8.15, 10.48, 15.3, 18.22]\n",
    "z= [2.48, 2.94, 3.24, 5.84, 7.86, 12.04, 14.3, 19.94, 22.14, 27.52, 29.94]"
   ]
  },
  {
   "cell_type": "code",
   "execution_count": 3,
   "metadata": {},
   "outputs": [],
   "source": [
    "x = [12, 15, 18, 21, 24,27, 30, 33]\n",
    "y = [3.67, 3.84, 4.58, 5.3, 8.15, 10.48, 15.3, 18.22]\n",
    "z= [5.84, 7.86, 12.04, 14.3, 19.94, 22.14, 27.52, 29.94]"
   ]
  },
  {
   "cell_type": "code",
   "execution_count": 4,
   "metadata": {},
   "outputs": [
    {
     "data": {
      "text/plain": [
       "array([12, 14, 16, 18, 20, 22, 24, 26, 28, 30, 32])"
      ]
     },
     "execution_count": 4,
     "metadata": {},
     "output_type": "execute_result"
    }
   ],
   "source": [
    "xnew = np.arange(12, 33, 2)\n",
    "xnew"
   ]
  },
  {
   "cell_type": "code",
   "execution_count": 441,
   "metadata": {},
   "outputs": [],
   "source": [
    "# x = [128, 144, 160, 176, 211, 212, 213, 214, 215, 216, 217, 218, 219, 220, 221, 224]\n",
    "# y = [1.77, 2.35, 3.84, 9.17, 19.86, 22.18, 26.38, 28.48, 33.27, 35.77, 41.9, 46.1, 54.77, 58.73, 66.33, 71.14]\n",
    "# z = [2.1, 3.3, 5.46, 8.54, 17.92, 20.08, 25.88, 28.52, 37.32, 42.24, 49.82, 54.78, 64.24, 69.22, 77, 83.28]"
   ]
  },
  {
   "cell_type": "code",
   "execution_count": 487,
   "metadata": {},
   "outputs": [],
   "source": [
    "x = [211, 212, 213, 214, 215, 216, 217, 218, 219, 220, 221, 224]\n",
    "y = [19.86, 22.18, 26.38, 28.48, 33.27, 35.77, 41.9, 46.1, 54.77, 58.73, 66.33, 71.14]\n",
    "z = [17.92, 20.08, 25.88, 28.52, 37.32, 42.24, 49.82, 54.78, 64.24, 69.22, 77, 83.28]"
   ]
  },
  {
   "cell_type": "code",
   "execution_count": 488,
   "metadata": {},
   "outputs": [
    {
     "data": {
      "text/plain": [
       "array([211. , 211.5, 212. , 212.5, 213. , 213.5, 214. , 214.5, 215. ,\n",
       "       215.5, 216. , 216.5, 217. , 217.5, 218. , 218.5, 219. , 219.5,\n",
       "       220. , 220.5, 221. , 221.5, 222. , 222.5, 223. , 223.5])"
      ]
     },
     "execution_count": 488,
     "metadata": {},
     "output_type": "execute_result"
    }
   ],
   "source": [
    "xnew = np.arange(211, 224, 0.5)\n",
    "xnew"
   ]
  },
  {
   "cell_type": "code",
   "execution_count": 5,
   "metadata": {},
   "outputs": [
    {
     "data": {
      "text/plain": [
       "array([ 3.67      ,  3.78333333,  4.08666667,  4.58      ,  5.06      ,\n",
       "        6.25      ,  8.15      ,  9.70333333, 12.08666667, 15.3       ,\n",
       "       17.24666667])"
      ]
     },
     "execution_count": 5,
     "metadata": {},
     "output_type": "execute_result"
    }
   ],
   "source": [
    "func = interpolate.interp1d(x, y, kind='linear')\n",
    "ynew = func(xnew)\n",
    "ynew"
   ]
  },
  {
   "cell_type": "code",
   "execution_count": 6,
   "metadata": {},
   "outputs": [
    {
     "data": {
      "text/plain": [
       "array([ 5.84      ,  7.18666667,  9.25333333, 12.04      , 13.54666667,\n",
       "       16.18      , 19.94      , 21.40666667, 23.93333333, 27.52      ,\n",
       "       29.13333333])"
      ]
     },
     "execution_count": 6,
     "metadata": {},
     "output_type": "execute_result"
    }
   ],
   "source": [
    "func = interpolate.interp1d(x, z, kind='linear')\n",
    "znew = func(xnew)\n",
    "znew"
   ]
  },
  {
   "cell_type": "code",
   "execution_count": 7,
   "metadata": {},
   "outputs": [],
   "source": [
    "# plt.plot(x, y,z, 'ro-')"
   ]
  },
  {
   "cell_type": "code",
   "execution_count": 8,
   "metadata": {},
   "outputs": [],
   "source": [
    "# plt.plot(xnew, ynew, znew)"
   ]
  },
  {
   "cell_type": "code",
   "execution_count": 9,
   "metadata": {},
   "outputs": [],
   "source": [
    "# plt.show()"
   ]
  },
  {
   "cell_type": "code",
   "execution_count": 10,
   "metadata": {},
   "outputs": [
    {
     "data": {
      "image/png": "[encoded data removed]",
      "text/plain": [
       "<Figure size 432x288 with 1 Axes>"
      ]
     },
     "metadata": {
      "needs_background": "light"
     },
     "output_type": "display_data"
    }
   ],
   "source": [
    "x_smooth = np.linspace(xnew.min(), xnew.max(), 100)\n",
    "y_smooth = make_interp_spline(xnew, ynew)(x_smooth)\n",
    "z_smooth = make_interp_spline(xnew, znew)(x_smooth)\n",
    "\n",
    "l1,=plt.plot(x_smooth,y_smooth,label='Places365')\n",
    "l2,=plt.plot(x_smooth,z_smooth,color='red',linewidth=.5,label='ImageNet')\n",
    "\n",
    "# plt.ylim([0, 100])\n",
    "\n",
    "plt.legend(handles=[l1, l2])\n",
    "plt.savefig('low.png')"
   ]
  },
  {
   "cell_type": "code",
   "execution_count": 11,
   "metadata": {},
   "outputs": [],
   "source": [
    "slope_Y = np.diff(ynew)/np.diff(xnew)\n",
    "slope_Z = np.diff(znew)/np.diff(xnew)\n",
    "\n",
    "x_smooth = np.linspace(xnew.min(), xnew.max(), 500)\n",
    "y_smooth = make_interp_spline(xnew[:-1], slope_Y)(x_smooth)\n",
    "z_smooth = make_interp_spline(xnew[:-1], slope_Z)(x_smooth)"
   ]
  },
  {
   "cell_type": "code",
   "execution_count": 12,
   "metadata": {},
   "outputs": [
    {
     "data": {
      "image/png": "[encoded data removed]",
      "text/plain": [
       "<Figure size 432x288 with 1 Axes>"
      ]
     },
     "metadata": {
      "needs_background": "light"
     },
     "output_type": "display_data"
    }
   ],
   "source": [
    "l3, = plt.plot(x_smooth, y_smooth, label='Places365')\n",
    "l4, = plt.plot(x_smooth, z_smooth, label='ImageNet.')\n",
    "\n",
    "plt.ylim([0, 15])\n",
    "plt.legend(handles=[l3, l4])\n",
    "plt.savefig('high_d.png')"
   ]
  },
  {
   "cell_type": "code",
   "execution_count": null,
   "metadata": {},
   "outputs": [],
   "source": []
  },
  {
   "cell_type": "code",
   "execution_count": null,
   "metadata": {},
   "outputs": [],
   "source": []
  }
 ],
 "metadata": {
  "kernelspec": {
   "display_name": "Python 3",
   "language": "python",
   "name": "python3"
  },
  "language_info": {
   "codemirror_mode": {
    "name": "ipython",
    "version": 3
   },
   "file_extension": ".py",
   "mimetype": "text/x-python",
   "name": "python",
   "nbconvert_exporter": "python",
   "pygments_lexer": "ipython3",
   "version": "3.8.5"
  }
 },
 "nbformat": 4,
 "nbformat_minor": 4
}
